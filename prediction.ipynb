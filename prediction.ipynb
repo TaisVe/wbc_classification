{
 "cells": [
  {
   "cell_type": "code",
   "execution_count": 1,
   "id": "34102579",
   "metadata": {},
   "outputs": [],
   "source": [
    "import pickle\n",
    "from PIL import Image\n",
    "from PIL.ExifTags import TAGS\n",
    "from PIL import Image\n",
    "import numpy as np\n",
    "with open('./model.p', 'rb') as f:\n",
    "    loaded_model = pickle.load(f)"
   ]
  },
  {
   "cell_type": "code",
   "execution_count": 3,
   "id": "887a1e1c",
   "metadata": {},
   "outputs": [
    {
     "name": "stdout",
     "output_type": "stream",
     "text": [
      "Image Format: JPEG\n",
      "Image Size: (224, 224)\n",
      "Image Mode: RGB\n",
      "\n",
      "No EXIF metadata found.\n"
     ]
    }
   ],
   "source": [
    "img_path = \"C:/../BNE_24354.jpg\" \n",
    "img = Image.open(img_path)\n",
    "print(\"Image Format:\", img.format)\n",
    "print(\"Image Size:\", img.size)\n",
    "print(\"Image Mode:\", img.mode)"
   ]
  },
  {
   "cell_type": "code",
   "execution_count": null,
   "id": "77cc6302",
   "metadata": {},
   "outputs": [],
   "source": [
    "exif_data = img._getexif()\n",
    "if exif_data:\n",
    "    print(\"\\nEXIF Metadata:\")\n",
    "    for tag_id, value in exif_data.items():\n",
    "        tag_name = TAGS.get(tag_id, tag_id)\n",
    "        print(f\"{tag_name}: {value}\")\n",
    "else:\n",
    "    print(\"\\nNo EXIF metadata found.\")"
   ]
  },
  {
   "cell_type": "code",
   "execution_count": 6,
   "id": "1773bb3c",
   "metadata": {},
   "outputs": [],
   "source": [
    "img = img.resize((15, 15))  \n",
    "img_array = np.array(img)  \n",
    "img_array = img_array / 255.0 "
   ]
  },
  {
   "cell_type": "code",
   "execution_count": 8,
   "id": "87db0c23",
   "metadata": {},
   "outputs": [
    {
     "name": "stdout",
     "output_type": "stream",
     "text": [
      "Current Shape: (1, 15, 15, 3)\n",
      "Reshaped Shape: (1, 675)\n"
     ]
    }
   ],
   "source": [
    "print(\"Current Shape:\", img_array.shape) \n",
    "img_array_flat = img_array.reshape(img_array.shape[0], -1)\n",
    "print(\"Reshaped Shape:\", img_array_flat.shape) "
   ]
  },
  {
   "cell_type": "code",
   "execution_count": 10,
   "id": "4c962aa5",
   "metadata": {},
   "outputs": [
    {
     "name": "stdout",
     "output_type": "stream",
     "text": [
      "[4]\n"
     ]
    }
   ],
   "source": [
    "predictions = loaded_model.predict(img_array_flat)\n",
    "print(predictions)"
   ]
  }
 ],
 "metadata": {
  "kernelspec": {
   "display_name": "Python 3 (ipykernel)",
   "language": "python",
   "name": "python3"
  },
  "language_info": {
   "codemirror_mode": {
    "name": "ipython",
    "version": 3
   },
   "file_extension": ".py",
   "mimetype": "text/x-python",
   "name": "python",
   "nbconvert_exporter": "python",
   "pygments_lexer": "ipython3",
   "version": "3.11.7"
  }
 },
 "nbformat": 4,
 "nbformat_minor": 5
}
